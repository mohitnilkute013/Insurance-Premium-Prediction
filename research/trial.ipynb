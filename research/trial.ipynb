{
 "cells": [
  {
   "cell_type": "code",
   "execution_count": 4,
   "metadata": {},
   "outputs": [
    {
     "name": "stdout",
     "output_type": "stream",
     "text": [
      "Schema created and saved to schema.yaml.\n"
     ]
    }
   ],
   "source": [
    "import pandas as pd\n",
    "import yaml\n",
    "\n",
    "# Read the CSV file with Pandas\n",
    "df = pd.read_csv(r'D:\\Data Science\\iNeuron\\Internship\\Insurance Premium Prediction\\data\\insurance.csv')\n",
    "\n",
    "# Get column names and data types\n",
    "schema = {'COLUMNS': {}}\n",
    "for column, dtype in df.dtypes.items():\n",
    "    schema['COLUMNS'][column] = dtype.name\n",
    "\n",
    "# Write the schema dictionary to a YAML file\n",
    "with open('schema.yaml', 'w') as yaml_file:\n",
    "    yaml.dump(schema, yaml_file, default_flow_style=False)\n",
    "\n",
    "print(\"Schema created and saved to schema.yaml.\")\n"
   ]
  },
  {
   "cell_type": "code",
   "execution_count": 9,
   "metadata": {},
   "outputs": [],
   "source": [
    "import yaml\n",
    "import importlib\n",
    "\n",
    "# Function to create an instance of a class\n",
    "def create_instance(class_path, init_args=None):\n",
    "    class_name = class_path.split('.')[-1]\n",
    "    module_name = '.'.join(class_path.split('.')[:-1])\n",
    "    \n",
    "    module = importlib.import_module(module_name)\n",
    "    class_ = getattr(module, class_name)\n",
    "    \n",
    "    if init_args:\n",
    "        return class_(**init_args)\n",
    "    else:\n",
    "        return class_()\n",
    "\n",
    "# Load the YAML file\n",
    "with open('D:\\Data Science\\iNeuron\\Internship\\Insurance Premium Prediction\\params\\params.yaml', 'r') as yaml_file:\n",
    "    models_config = yaml.load(yaml_file, Loader=yaml.FullLoader)\n",
    "\n",
    "# Create a dictionary to store the model instances\n",
    "models = {}\n",
    "\n",
    "# Iterate through the model configurations\n",
    "for model_info in models_config['models']:\n",
    "    model_name = model_info['name']\n",
    "    model_class_path = model_info['class']\n",
    "    \n",
    "    if 'init_args' in model_info:\n",
    "        init_args = model_info['init_args']\n",
    "        \n",
    "        if 'estimator' in init_args:\n",
    "            estimator_class_path = init_args['estimator']['class']\n",
    "            estimator_init_args = init_args['estimator'].get('init_args', {})\n",
    "            \n",
    "            # Create an instance of the estimator\n",
    "            estimator_instance = create_instance(estimator_class_path, estimator_init_args)\n",
    "            \n",
    "            # Update the init_args with the estimator instance\n",
    "            init_args['estimator'] = estimator_instance\n",
    "            \n",
    "        # Create an instance of the model class with updated init_args\n",
    "        model_instance = create_instance(model_class_path, init_args)\n",
    "    else:\n",
    "        # Create an instance of the model class with no init_args\n",
    "        model_instance = create_instance(model_class_path)\n",
    "    \n",
    "    # Add the model instance to the dictionary\n",
    "    models[model_name] = model_instance\n",
    "\n",
    "# Now, you have a dictionary of model instances\n",
    "# You can access them like this:\n",
    "# models['LinearRegression']\n",
    "# models['Lasso']\n",
    "# models['Ridge']\n",
    "# ... and so on\n"
   ]
  },
  {
   "cell_type": "code",
   "execution_count": 10,
   "metadata": {},
   "outputs": [
    {
     "data": {
      "text/plain": [
       "{'LinearRegression': LinearRegression(),\n",
       " 'Lasso': Lasso(),\n",
       " 'Ridge': Ridge(),\n",
       " 'Elasticnet': ElasticNet(),\n",
       " 'DecisionTree': DecisionTreeRegressor(random_state=42),\n",
       " 'SVR linear': SVR(kernel='linear'),\n",
       " 'SVR rbf': SVR(),\n",
       " 'KNNR': KNeighborsRegressor(n_neighbors=3),\n",
       " 'RandomForest': RandomForestRegressor(random_state=42),\n",
       " 'AdaBoost': AdaBoostRegressor(estimator=DecisionTreeRegressor(random_state=42)),\n",
       " 'Gradient Boosting': GradientBoostingRegressor(),\n",
       " 'XGB': XGBRegressor(base_score=None, booster=None, callbacks=None,\n",
       "              colsample_bylevel=None, colsample_bynode=None,\n",
       "              colsample_bytree=None, device=None, early_stopping_rounds=None,\n",
       "              enable_categorical=False, eval_metric=None, feature_types=None,\n",
       "              gamma=None, grow_policy=None, importance_type=None,\n",
       "              interaction_constraints=None, learning_rate=None, max_bin=None,\n",
       "              max_cat_threshold=None, max_cat_to_onehot=None,\n",
       "              max_delta_step=None, max_depth=None, max_leaves=None,\n",
       "              min_child_weight=None, missing=nan, monotone_constraints=None,\n",
       "              multi_strategy=None, n_estimators=None, n_jobs=None,\n",
       "              num_parallel_tree=None, random_state=None, ...),\n",
       " 'CatBoost': <catboost.core.CatBoostRegressor at 0x2049b6a4490>,\n",
       " 'BaggingSVR': BaggingRegressor(estimator=SVR())}"
      ]
     },
     "execution_count": 10,
     "metadata": {},
     "output_type": "execute_result"
    }
   ],
   "source": [
    "models"
   ]
  },
  {
   "cell_type": "code",
   "execution_count": 2,
   "metadata": {},
   "outputs": [],
   "source": [
    "import yaml\n",
    "import importlib\n",
    "from sklearn.compose import ColumnTransformer\n",
    "from sklearn.pipeline import Pipeline\n",
    "\n",
    "# Function to create an instance of a class\n",
    "def create_instance(class_path, init_args=None):\n",
    "    class_name = class_path.split('.')[-1]\n",
    "    module_name = '.'.join(class_path.split('.')[:-1])\n",
    "    \n",
    "    module = importlib.import_module(module_name)\n",
    "    class_ = getattr(module, class_name)\n",
    "    \n",
    "    if init_args:\n",
    "        return class_(**init_args)\n",
    "    else:\n",
    "        return class_()\n",
    "\n",
    "# Load the YAML file\n",
    "with open('D:\\Data Science\\iNeuron\\Internship\\Insurance Premium Prediction\\params\\params.yaml', 'r') as yaml_file:\n",
    "    preprocessor_config = yaml.load(yaml_file, Loader=yaml.FullLoader)\n",
    "\n",
    "# Initialize a dictionary to hold pipelines for each column group\n",
    "column_group_pipelines = {}\n",
    "\n",
    "# Iterate through column groups defined in the YAML file\n",
    "for column_group, preprocessing_steps in preprocessor_config['preprocessor']['preprocessing_steps'].items():\n",
    "    # Initialize pipelines for the current column group\n",
    "    pipelines = []\n",
    "    \n",
    "    # Iterate through preprocessing steps for the current column group\n",
    "    for step_info in preprocessing_steps:\n",
    "        step_name = step_info['name']\n",
    "        step_class_path = step_info['class']\n",
    "        \n",
    "        if 'init_args' in step_info:\n",
    "            init_args = step_info['init_args']\n",
    "        else:\n",
    "            init_args = None\n",
    "        \n",
    "        # Create an instance of the preprocessing step class\n",
    "        preprocessing_step = create_instance(step_class_path, init_args)\n",
    "        \n",
    "        # Add the preprocessing step to the current pipeline\n",
    "        pipelines.append((step_name, preprocessing_step))\n",
    "    \n",
    "    # Create a pipeline for the current column group\n",
    "    column_group_pipelines[column_group] = Pipeline(pipelines)\n",
    "\n",
    "# Extract column groups\n",
    "column_groups = preprocessor_config['preprocessor']['column_groups']\n",
    "\n",
    "# Create a ColumnTransformer using the pipelines\n",
    "preprocessor = ColumnTransformer(\n",
    "    transformers=[\n",
    "        (group, pipeline, column_groups[group]) for group, pipeline in column_group_pipelines.items()\n",
    "    ]\n",
    ")\n",
    "\n",
    "# Now, you have pipelines for each column group and a ColumnTransformer combining them\n"
   ]
  },
  {
   "cell_type": "code",
   "execution_count": 3,
   "metadata": {},
   "outputs": [
    {
     "data": {
      "text/html": [
       "<style>#sk-container-id-1 {color: black;}#sk-container-id-1 pre{padding: 0;}#sk-container-id-1 div.sk-toggleable {background-color: white;}#sk-container-id-1 label.sk-toggleable__label {cursor: pointer;display: block;width: 100%;margin-bottom: 0;padding: 0.3em;box-sizing: border-box;text-align: center;}#sk-container-id-1 label.sk-toggleable__label-arrow:before {content: \"▸\";float: left;margin-right: 0.25em;color: #696969;}#sk-container-id-1 label.sk-toggleable__label-arrow:hover:before {color: black;}#sk-container-id-1 div.sk-estimator:hover label.sk-toggleable__label-arrow:before {color: black;}#sk-container-id-1 div.sk-toggleable__content {max-height: 0;max-width: 0;overflow: hidden;text-align: left;background-color: #f0f8ff;}#sk-container-id-1 div.sk-toggleable__content pre {margin: 0.2em;color: black;border-radius: 0.25em;background-color: #f0f8ff;}#sk-container-id-1 input.sk-toggleable__control:checked~div.sk-toggleable__content {max-height: 200px;max-width: 100%;overflow: auto;}#sk-container-id-1 input.sk-toggleable__control:checked~label.sk-toggleable__label-arrow:before {content: \"▾\";}#sk-container-id-1 div.sk-estimator input.sk-toggleable__control:checked~label.sk-toggleable__label {background-color: #d4ebff;}#sk-container-id-1 div.sk-label input.sk-toggleable__control:checked~label.sk-toggleable__label {background-color: #d4ebff;}#sk-container-id-1 input.sk-hidden--visually {border: 0;clip: rect(1px 1px 1px 1px);clip: rect(1px, 1px, 1px, 1px);height: 1px;margin: -1px;overflow: hidden;padding: 0;position: absolute;width: 1px;}#sk-container-id-1 div.sk-estimator {font-family: monospace;background-color: #f0f8ff;border: 1px dotted black;border-radius: 0.25em;box-sizing: border-box;margin-bottom: 0.5em;}#sk-container-id-1 div.sk-estimator:hover {background-color: #d4ebff;}#sk-container-id-1 div.sk-parallel-item::after {content: \"\";width: 100%;border-bottom: 1px solid gray;flex-grow: 1;}#sk-container-id-1 div.sk-label:hover label.sk-toggleable__label {background-color: #d4ebff;}#sk-container-id-1 div.sk-serial::before {content: \"\";position: absolute;border-left: 1px solid gray;box-sizing: border-box;top: 0;bottom: 0;left: 50%;z-index: 0;}#sk-container-id-1 div.sk-serial {display: flex;flex-direction: column;align-items: center;background-color: white;padding-right: 0.2em;padding-left: 0.2em;position: relative;}#sk-container-id-1 div.sk-item {position: relative;z-index: 1;}#sk-container-id-1 div.sk-parallel {display: flex;align-items: stretch;justify-content: center;background-color: white;position: relative;}#sk-container-id-1 div.sk-item::before, #sk-container-id-1 div.sk-parallel-item::before {content: \"\";position: absolute;border-left: 1px solid gray;box-sizing: border-box;top: 0;bottom: 0;left: 50%;z-index: -1;}#sk-container-id-1 div.sk-parallel-item {display: flex;flex-direction: column;z-index: 1;position: relative;background-color: white;}#sk-container-id-1 div.sk-parallel-item:first-child::after {align-self: flex-end;width: 50%;}#sk-container-id-1 div.sk-parallel-item:last-child::after {align-self: flex-start;width: 50%;}#sk-container-id-1 div.sk-parallel-item:only-child::after {width: 0;}#sk-container-id-1 div.sk-dashed-wrapped {border: 1px dashed gray;margin: 0 0.4em 0.5em 0.4em;box-sizing: border-box;padding-bottom: 0.4em;background-color: white;}#sk-container-id-1 div.sk-label label {font-family: monospace;font-weight: bold;display: inline-block;line-height: 1.2em;}#sk-container-id-1 div.sk-label-container {text-align: center;}#sk-container-id-1 div.sk-container {/* jupyter's `normalize.less` sets `[hidden] { display: none; }` but bootstrap.min.css set `[hidden] { display: none !important; }` so we also need the `!important` here to be able to override the default hidden behavior on the sphinx rendered scikit-learn.org. See: https://github.com/scikit-learn/scikit-learn/issues/21755 */display: inline-block !important;position: relative;}#sk-container-id-1 div.sk-text-repr-fallback {display: none;}</style><div id=\"sk-container-id-1\" class=\"sk-top-container\"><div class=\"sk-text-repr-fallback\"><pre>ColumnTransformer(transformers=[(&#x27;numerical_cols&#x27;,\n",
       "                                 Pipeline(steps=[(&#x27;StandardScaler&#x27;,\n",
       "                                                  StandardScaler())]),\n",
       "                                 [&#x27;age&#x27;, &#x27;bmi&#x27;, &#x27;children&#x27;]),\n",
       "                                (&#x27;categorical_cols&#x27;,\n",
       "                                 Pipeline(steps=[(&#x27;OrdinalEncoder&#x27;,\n",
       "                                                  OrdinalEncoder(categories=[[&#x27;male&#x27;,\n",
       "                                                                              &#x27;female&#x27;],\n",
       "                                                                             [&#x27;no&#x27;,\n",
       "                                                                              &#x27;yes&#x27;],\n",
       "                                                                             [&#x27;southeast&#x27;,\n",
       "                                                                              &#x27;southwest&#x27;,\n",
       "                                                                              &#x27;northwest&#x27;,\n",
       "                                                                              &#x27;northeast&#x27;]])),\n",
       "                                                 (&#x27;StandardScaler&#x27;,\n",
       "                                                  StandardScaler())]),\n",
       "                                 [&#x27;region&#x27;, &#x27;sex&#x27;, &#x27;smoker&#x27;])])</pre><b>In a Jupyter environment, please rerun this cell to show the HTML representation or trust the notebook. <br />On GitHub, the HTML representation is unable to render, please try loading this page with nbviewer.org.</b></div><div class=\"sk-container\" hidden><div class=\"sk-item sk-dashed-wrapped\"><div class=\"sk-label-container\"><div class=\"sk-label sk-toggleable\"><input class=\"sk-toggleable__control sk-hidden--visually\" id=\"sk-estimator-id-1\" type=\"checkbox\" ><label for=\"sk-estimator-id-1\" class=\"sk-toggleable__label sk-toggleable__label-arrow\">ColumnTransformer</label><div class=\"sk-toggleable__content\"><pre>ColumnTransformer(transformers=[(&#x27;numerical_cols&#x27;,\n",
       "                                 Pipeline(steps=[(&#x27;StandardScaler&#x27;,\n",
       "                                                  StandardScaler())]),\n",
       "                                 [&#x27;age&#x27;, &#x27;bmi&#x27;, &#x27;children&#x27;]),\n",
       "                                (&#x27;categorical_cols&#x27;,\n",
       "                                 Pipeline(steps=[(&#x27;OrdinalEncoder&#x27;,\n",
       "                                                  OrdinalEncoder(categories=[[&#x27;male&#x27;,\n",
       "                                                                              &#x27;female&#x27;],\n",
       "                                                                             [&#x27;no&#x27;,\n",
       "                                                                              &#x27;yes&#x27;],\n",
       "                                                                             [&#x27;southeast&#x27;,\n",
       "                                                                              &#x27;southwest&#x27;,\n",
       "                                                                              &#x27;northwest&#x27;,\n",
       "                                                                              &#x27;northeast&#x27;]])),\n",
       "                                                 (&#x27;StandardScaler&#x27;,\n",
       "                                                  StandardScaler())]),\n",
       "                                 [&#x27;region&#x27;, &#x27;sex&#x27;, &#x27;smoker&#x27;])])</pre></div></div></div><div class=\"sk-parallel\"><div class=\"sk-parallel-item\"><div class=\"sk-item\"><div class=\"sk-label-container\"><div class=\"sk-label sk-toggleable\"><input class=\"sk-toggleable__control sk-hidden--visually\" id=\"sk-estimator-id-2\" type=\"checkbox\" ><label for=\"sk-estimator-id-2\" class=\"sk-toggleable__label sk-toggleable__label-arrow\">numerical_cols</label><div class=\"sk-toggleable__content\"><pre>[&#x27;age&#x27;, &#x27;bmi&#x27;, &#x27;children&#x27;]</pre></div></div></div><div class=\"sk-serial\"><div class=\"sk-item\"><div class=\"sk-serial\"><div class=\"sk-item\"><div class=\"sk-estimator sk-toggleable\"><input class=\"sk-toggleable__control sk-hidden--visually\" id=\"sk-estimator-id-3\" type=\"checkbox\" ><label for=\"sk-estimator-id-3\" class=\"sk-toggleable__label sk-toggleable__label-arrow\">StandardScaler</label><div class=\"sk-toggleable__content\"><pre>StandardScaler()</pre></div></div></div></div></div></div></div></div><div class=\"sk-parallel-item\"><div class=\"sk-item\"><div class=\"sk-label-container\"><div class=\"sk-label sk-toggleable\"><input class=\"sk-toggleable__control sk-hidden--visually\" id=\"sk-estimator-id-4\" type=\"checkbox\" ><label for=\"sk-estimator-id-4\" class=\"sk-toggleable__label sk-toggleable__label-arrow\">categorical_cols</label><div class=\"sk-toggleable__content\"><pre>[&#x27;region&#x27;, &#x27;sex&#x27;, &#x27;smoker&#x27;]</pre></div></div></div><div class=\"sk-serial\"><div class=\"sk-item\"><div class=\"sk-serial\"><div class=\"sk-item\"><div class=\"sk-estimator sk-toggleable\"><input class=\"sk-toggleable__control sk-hidden--visually\" id=\"sk-estimator-id-5\" type=\"checkbox\" ><label for=\"sk-estimator-id-5\" class=\"sk-toggleable__label sk-toggleable__label-arrow\">OrdinalEncoder</label><div class=\"sk-toggleable__content\"><pre>OrdinalEncoder(categories=[[&#x27;male&#x27;, &#x27;female&#x27;], [&#x27;no&#x27;, &#x27;yes&#x27;],\n",
       "                           [&#x27;southeast&#x27;, &#x27;southwest&#x27;, &#x27;northwest&#x27;,\n",
       "                            &#x27;northeast&#x27;]])</pre></div></div></div><div class=\"sk-item\"><div class=\"sk-estimator sk-toggleable\"><input class=\"sk-toggleable__control sk-hidden--visually\" id=\"sk-estimator-id-6\" type=\"checkbox\" ><label for=\"sk-estimator-id-6\" class=\"sk-toggleable__label sk-toggleable__label-arrow\">StandardScaler</label><div class=\"sk-toggleable__content\"><pre>StandardScaler()</pre></div></div></div></div></div></div></div></div></div></div></div></div>"
      ],
      "text/plain": [
       "ColumnTransformer(transformers=[('numerical_cols',\n",
       "                                 Pipeline(steps=[('StandardScaler',\n",
       "                                                  StandardScaler())]),\n",
       "                                 ['age', 'bmi', 'children']),\n",
       "                                ('categorical_cols',\n",
       "                                 Pipeline(steps=[('OrdinalEncoder',\n",
       "                                                  OrdinalEncoder(categories=[['male',\n",
       "                                                                              'female'],\n",
       "                                                                             ['no',\n",
       "                                                                              'yes'],\n",
       "                                                                             ['southeast',\n",
       "                                                                              'southwest',\n",
       "                                                                              'northwest',\n",
       "                                                                              'northeast']])),\n",
       "                                                 ('StandardScaler',\n",
       "                                                  StandardScaler())]),\n",
       "                                 ['region', 'sex', 'smoker'])])"
      ]
     },
     "execution_count": 3,
     "metadata": {},
     "output_type": "execute_result"
    }
   ],
   "source": [
    "preprocessor"
   ]
  },
  {
   "cell_type": "code",
   "execution_count": 4,
   "metadata": {},
   "outputs": [
    {
     "name": "stdout",
     "output_type": "stream",
     "text": [
      "numerical_cols ['age', 'bmi', 'children']\n",
      "categorical_cols ['region', 'sex', 'smoker']\n"
     ]
    }
   ],
   "source": [
    "for group, pipeline in column_group_pipelines.items():\n",
    "    print(group, column_groups[group])"
   ]
  },
  {
   "cell_type": "code",
   "execution_count": null,
   "metadata": {},
   "outputs": [],
   "source": []
  }
 ],
 "metadata": {
  "kernelspec": {
   "display_name": "base",
   "language": "python",
   "name": "python3"
  },
  "language_info": {
   "codemirror_mode": {
    "name": "ipython",
    "version": 3
   },
   "file_extension": ".py",
   "mimetype": "text/x-python",
   "name": "python",
   "nbconvert_exporter": "python",
   "pygments_lexer": "ipython3",
   "version": "3.8.18"
  }
 },
 "nbformat": 4,
 "nbformat_minor": 2
}
